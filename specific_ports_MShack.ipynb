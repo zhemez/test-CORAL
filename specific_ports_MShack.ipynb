{
 "cells": [
  {
   "cell_type": "code",
   "execution_count": 1,
   "id": "88d1d235-f998-43cb-9591-54f33aaddaef",
   "metadata": {},
   "outputs": [
    {
     "ename": "ModuleNotFoundError",
     "evalue": "No module named 'requests'",
     "output_type": "error",
     "traceback": [
      "\u001b[1;31m---------------------------------------------------------------------------\u001b[0m",
      "\u001b[1;31mModuleNotFoundError\u001b[0m                       Traceback (most recent call last)",
      "\u001b[1;32m<ipython-input-1-800ba0329d1c>\u001b[0m in \u001b[0;36m<module>\u001b[1;34m()\u001b[0m\n\u001b[0;32m      8\u001b[0m \u001b[0mmpl\u001b[0m\u001b[1;33m.\u001b[0m\u001b[0mrcParams\u001b[0m\u001b[1;33m[\u001b[0m\u001b[1;34m'hatch.linewidth'\u001b[0m\u001b[1;33m]\u001b[0m \u001b[1;33m=\u001b[0m \u001b[1;36m0.2\u001b[0m  \u001b[1;31m# previous pdf hatch linewidth\u001b[0m\u001b[1;33m\u001b[0m\u001b[1;33m\u001b[0m\u001b[0m\n\u001b[0;32m      9\u001b[0m \u001b[1;33m\u001b[0m\u001b[0m\n\u001b[1;32m---> 10\u001b[1;33m \u001b[1;32mfrom\u001b[0m \u001b[0mORBIT\u001b[0m\u001b[1;33m.\u001b[0m\u001b[0mcore\u001b[0m\u001b[1;33m.\u001b[0m\u001b[0mlibrary\u001b[0m \u001b[1;32mimport\u001b[0m \u001b[0minitialize_library\u001b[0m\u001b[1;33m\u001b[0m\u001b[1;33m\u001b[0m\u001b[0m\n\u001b[0m\u001b[0;32m     11\u001b[0m \u001b[1;32mfrom\u001b[0m \u001b[0mCORAL\u001b[0m \u001b[1;32mimport\u001b[0m \u001b[0mSharedLibrary\u001b[0m\u001b[1;33m,\u001b[0m \u001b[0mGlobalManager\u001b[0m\u001b[1;33m,\u001b[0m \u001b[0mPipeline\u001b[0m\u001b[1;33m\u001b[0m\u001b[1;33m\u001b[0m\u001b[0m\n\u001b[0;32m     12\u001b[0m \u001b[1;32mfrom\u001b[0m \u001b[0mCORAL\u001b[0m\u001b[1;33m.\u001b[0m\u001b[0mutils\u001b[0m \u001b[1;32mimport\u001b[0m \u001b[0mget_installed_capacity_by\u001b[0m\u001b[1;33m\u001b[0m\u001b[1;33m\u001b[0m\u001b[0m\n",
      "\u001b[1;32mc:\\users\\mshields\\documents\\analysis tools\\nrel\\orbit\\ORBIT\\__init__.py\u001b[0m in \u001b[0;36m<module>\u001b[1;34m()\u001b[0m\n\u001b[0;32m      6\u001b[0m \u001b[1;33m\u001b[0m\u001b[0m\n\u001b[0;32m      7\u001b[0m \u001b[1;33m\u001b[0m\u001b[0m\n\u001b[1;32m----> 8\u001b[1;33m \u001b[1;32mfrom\u001b[0m \u001b[1;33m.\u001b[0m\u001b[0mmanager\u001b[0m \u001b[1;32mimport\u001b[0m \u001b[0mProjectManager\u001b[0m  \u001b[1;31m# isort:skip\u001b[0m\u001b[1;33m\u001b[0m\u001b[1;33m\u001b[0m\u001b[0m\n\u001b[0m\u001b[0;32m      9\u001b[0m \u001b[1;32mfrom\u001b[0m \u001b[1;33m.\u001b[0m\u001b[0mconfig\u001b[0m \u001b[1;32mimport\u001b[0m \u001b[0mload_config\u001b[0m\u001b[1;33m,\u001b[0m \u001b[0msave_config\u001b[0m\u001b[1;33m\u001b[0m\u001b[1;33m\u001b[0m\u001b[0m\n\u001b[0;32m     10\u001b[0m \u001b[1;32mfrom\u001b[0m \u001b[1;33m.\u001b[0m\u001b[0m_version\u001b[0m \u001b[1;32mimport\u001b[0m \u001b[0mget_versions\u001b[0m\u001b[1;33m\u001b[0m\u001b[1;33m\u001b[0m\u001b[0m\n",
      "\u001b[1;32mc:\\users\\mshields\\documents\\analysis tools\\nrel\\orbit\\ORBIT\\manager.py\u001b[0m in \u001b[0;36m<module>\u001b[1;34m()\u001b[0m\n\u001b[0;32m     16\u001b[0m \u001b[1;32mimport\u001b[0m \u001b[0mnumpy\u001b[0m \u001b[1;32mas\u001b[0m \u001b[0mnp\u001b[0m\u001b[1;33m\u001b[0m\u001b[1;33m\u001b[0m\u001b[0m\n\u001b[0;32m     17\u001b[0m \u001b[1;32mimport\u001b[0m \u001b[0mpandas\u001b[0m \u001b[1;32mas\u001b[0m \u001b[0mpd\u001b[0m\u001b[1;33m\u001b[0m\u001b[1;33m\u001b[0m\u001b[0m\n\u001b[1;32m---> 18\u001b[1;33m \u001b[1;32mfrom\u001b[0m \u001b[0mbenedict\u001b[0m \u001b[1;32mimport\u001b[0m \u001b[0mbenedict\u001b[0m\u001b[1;33m\u001b[0m\u001b[1;33m\u001b[0m\u001b[0m\n\u001b[0m\u001b[0;32m     19\u001b[0m \u001b[1;33m\u001b[0m\u001b[0m\n\u001b[0;32m     20\u001b[0m \u001b[1;32mimport\u001b[0m \u001b[0mORBIT\u001b[0m\u001b[1;33m\u001b[0m\u001b[1;33m\u001b[0m\u001b[0m\n",
      "\u001b[1;32mC:\\Users\\mshields\\AppData\\Local\\Continuum\\anaconda3\\envs\\floating-study\\lib\\site-packages\\benedict\\__init__.py\u001b[0m in \u001b[0;36m<module>\u001b[1;34m()\u001b[0m\n\u001b[0;32m      1\u001b[0m \u001b[1;31m# -*- coding: utf-8 -*-\u001b[0m\u001b[1;33m\u001b[0m\u001b[1;33m\u001b[0m\u001b[1;33m\u001b[0m\u001b[0m\n\u001b[0;32m      2\u001b[0m \u001b[1;33m\u001b[0m\u001b[0m\n\u001b[1;32m----> 3\u001b[1;33m \u001b[1;32mfrom\u001b[0m \u001b[0mbenedict\u001b[0m\u001b[1;33m.\u001b[0m\u001b[0mdicts\u001b[0m \u001b[1;32mimport\u001b[0m \u001b[0mbenedict\u001b[0m\u001b[1;33m\u001b[0m\u001b[1;33m\u001b[0m\u001b[0m\n\u001b[0m\u001b[0;32m      4\u001b[0m from benedict.metadata import (\n\u001b[0;32m      5\u001b[0m     \u001b[0m__author__\u001b[0m\u001b[1;33m,\u001b[0m \u001b[0m__copyright__\u001b[0m\u001b[1;33m,\u001b[0m \u001b[0m__description__\u001b[0m\u001b[1;33m,\u001b[0m\u001b[1;33m\u001b[0m\u001b[1;33m\u001b[0m\u001b[0m\n",
      "\u001b[1;32mC:\\Users\\mshields\\AppData\\Local\\Continuum\\anaconda3\\envs\\floating-study\\lib\\site-packages\\benedict\\dicts\\__init__.py\u001b[0m in \u001b[0;36m<module>\u001b[1;34m()\u001b[0m\n\u001b[0;32m     25\u001b[0m \u001b[1;32mfrom\u001b[0m \u001b[0mbenedict\u001b[0m\u001b[1;33m.\u001b[0m\u001b[0mcore\u001b[0m \u001b[1;32mimport\u001b[0m \u001b[0munflatten\u001b[0m \u001b[1;32mas\u001b[0m \u001b[0m_unflatten\u001b[0m\u001b[1;33m\u001b[0m\u001b[1;33m\u001b[0m\u001b[0m\n\u001b[0;32m     26\u001b[0m \u001b[1;32mfrom\u001b[0m \u001b[0mbenedict\u001b[0m\u001b[1;33m.\u001b[0m\u001b[0mcore\u001b[0m \u001b[1;32mimport\u001b[0m \u001b[0munique\u001b[0m \u001b[1;32mas\u001b[0m \u001b[0m_unique\u001b[0m\u001b[1;33m\u001b[0m\u001b[1;33m\u001b[0m\u001b[0m\n\u001b[1;32m---> 27\u001b[1;33m \u001b[1;32mfrom\u001b[0m \u001b[0mbenedict\u001b[0m\u001b[1;33m.\u001b[0m\u001b[0mdicts\u001b[0m\u001b[1;33m.\u001b[0m\u001b[0mio\u001b[0m \u001b[1;32mimport\u001b[0m \u001b[0mIODict\u001b[0m\u001b[1;33m\u001b[0m\u001b[1;33m\u001b[0m\u001b[0m\n\u001b[0m\u001b[0;32m     28\u001b[0m \u001b[1;32mfrom\u001b[0m \u001b[0mbenedict\u001b[0m\u001b[1;33m.\u001b[0m\u001b[0mdicts\u001b[0m\u001b[1;33m.\u001b[0m\u001b[0mkeylist\u001b[0m \u001b[1;32mimport\u001b[0m \u001b[0mKeylistDict\u001b[0m\u001b[1;33m\u001b[0m\u001b[1;33m\u001b[0m\u001b[0m\n\u001b[0;32m     29\u001b[0m \u001b[1;32mfrom\u001b[0m \u001b[0mbenedict\u001b[0m\u001b[1;33m.\u001b[0m\u001b[0mdicts\u001b[0m\u001b[1;33m.\u001b[0m\u001b[0mkeypath\u001b[0m \u001b[1;32mimport\u001b[0m \u001b[0mKeypathDict\u001b[0m\u001b[1;33m\u001b[0m\u001b[1;33m\u001b[0m\u001b[0m\n",
      "\u001b[1;32mC:\\Users\\mshields\\AppData\\Local\\Continuum\\anaconda3\\envs\\floating-study\\lib\\site-packages\\benedict\\dicts\\io\\__init__.py\u001b[0m in \u001b[0;36m<module>\u001b[1;34m()\u001b[0m\n\u001b[0;32m      1\u001b[0m \u001b[1;31m# -*- coding: utf-8 -*-\u001b[0m\u001b[1;33m\u001b[0m\u001b[1;33m\u001b[0m\u001b[1;33m\u001b[0m\u001b[0m\n\u001b[0;32m      2\u001b[0m \u001b[1;33m\u001b[0m\u001b[0m\n\u001b[1;32m----> 3\u001b[1;33m \u001b[1;32mfrom\u001b[0m \u001b[0mbenedict\u001b[0m\u001b[1;33m.\u001b[0m\u001b[0mdicts\u001b[0m\u001b[1;33m.\u001b[0m\u001b[0mio\u001b[0m\u001b[1;33m.\u001b[0m\u001b[0mio_dict\u001b[0m \u001b[1;32mimport\u001b[0m \u001b[0mIODict\u001b[0m\u001b[1;33m\u001b[0m\u001b[1;33m\u001b[0m\u001b[0m\n\u001b[0m",
      "\u001b[1;32mC:\\Users\\mshields\\AppData\\Local\\Continuum\\anaconda3\\envs\\floating-study\\lib\\site-packages\\benedict\\dicts\\io\\io_dict.py\u001b[0m in \u001b[0;36m<module>\u001b[1;34m()\u001b[0m\n\u001b[0;32m      2\u001b[0m \u001b[1;33m\u001b[0m\u001b[0m\n\u001b[0;32m      3\u001b[0m \u001b[1;32mfrom\u001b[0m \u001b[0mbenedict\u001b[0m\u001b[1;33m.\u001b[0m\u001b[0mdicts\u001b[0m\u001b[1;33m.\u001b[0m\u001b[0mbase\u001b[0m \u001b[1;32mimport\u001b[0m \u001b[0mBaseDict\u001b[0m\u001b[1;33m\u001b[0m\u001b[1;33m\u001b[0m\u001b[0m\n\u001b[1;32m----> 4\u001b[1;33m \u001b[1;32mfrom\u001b[0m \u001b[0mbenedict\u001b[0m\u001b[1;33m.\u001b[0m\u001b[0mdicts\u001b[0m\u001b[1;33m.\u001b[0m\u001b[0mio\u001b[0m \u001b[1;32mimport\u001b[0m \u001b[0mio_util\u001b[0m\u001b[1;33m\u001b[0m\u001b[1;33m\u001b[0m\u001b[0m\n\u001b[0m\u001b[0;32m      5\u001b[0m \u001b[1;32mfrom\u001b[0m \u001b[0mbenedict\u001b[0m\u001b[1;33m.\u001b[0m\u001b[0mutils\u001b[0m \u001b[1;32mimport\u001b[0m \u001b[0mtype_util\u001b[0m\u001b[1;33m\u001b[0m\u001b[1;33m\u001b[0m\u001b[0m\n\u001b[0;32m      6\u001b[0m \u001b[1;33m\u001b[0m\u001b[0m\n",
      "\u001b[1;32mC:\\Users\\mshields\\AppData\\Local\\Continuum\\anaconda3\\envs\\floating-study\\lib\\site-packages\\benedict\\dicts\\io\\io_util.py\u001b[0m in \u001b[0;36m<module>\u001b[1;34m()\u001b[0m\n\u001b[0;32m      4\u001b[0m     get_format_by_path, get_serializer_by_format, get_serializers_extensions, )\n\u001b[0;32m      5\u001b[0m \u001b[1;33m\u001b[0m\u001b[0m\n\u001b[1;32m----> 6\u001b[1;33m \u001b[1;32mimport\u001b[0m \u001b[0mfsutil\u001b[0m\u001b[1;33m\u001b[0m\u001b[1;33m\u001b[0m\u001b[0m\n\u001b[0m\u001b[0;32m      7\u001b[0m \u001b[1;33m\u001b[0m\u001b[0m\n\u001b[0;32m      8\u001b[0m \u001b[1;33m\u001b[0m\u001b[0m\n",
      "\u001b[1;32mC:\\Users\\mshields\\AppData\\Local\\Continuum\\anaconda3\\envs\\floating-study\\lib\\site-packages\\fsutil\\__init__.py\u001b[0m in \u001b[0;36m<module>\u001b[1;34m()\u001b[0m\n\u001b[0;32m     10\u001b[0m \u001b[1;32mimport\u001b[0m \u001b[0mhashlib\u001b[0m\u001b[1;33m\u001b[0m\u001b[1;33m\u001b[0m\u001b[0m\n\u001b[0;32m     11\u001b[0m \u001b[1;32mimport\u001b[0m \u001b[0mos\u001b[0m\u001b[1;33m\u001b[0m\u001b[1;33m\u001b[0m\u001b[0m\n\u001b[1;32m---> 12\u001b[1;33m \u001b[1;32mimport\u001b[0m \u001b[0mrequests\u001b[0m\u001b[1;33m\u001b[0m\u001b[1;33m\u001b[0m\u001b[0m\n\u001b[0m\u001b[0;32m     13\u001b[0m \u001b[1;32mimport\u001b[0m \u001b[0mshutil\u001b[0m\u001b[1;33m\u001b[0m\u001b[1;33m\u001b[0m\u001b[0m\n\u001b[0;32m     14\u001b[0m \u001b[1;32mimport\u001b[0m \u001b[0msys\u001b[0m\u001b[1;33m\u001b[0m\u001b[1;33m\u001b[0m\u001b[0m\n",
      "\u001b[1;31mModuleNotFoundError\u001b[0m: No module named 'requests'"
     ]
    }
   ],
   "source": [
    "import os\n",
    "import pandas as pd\n",
    "import datetime as dt\n",
    "import matplotlib.pyplot as plt\n",
    "import matplotlib as mpl\n",
    "from copy import deepcopy\n",
    "\n",
    "mpl.rcParams['hatch.linewidth'] = 0.2  # previous pdf hatch linewidth\n",
    "\n",
    "from ORBIT.core.library import initialize_library\n",
    "from CORAL import SharedLibrary, GlobalManager, Pipeline\n",
    "from CORAL.utils import get_installed_capacity_by\n",
    "\n",
    "initialize_library(os.path.join(os.getcwd(), \"east_coast_analysis/library\"))\n",
    "\n",
    "projects = os.path.join(os.getcwd(), \"east_coast_analysis/pipeline.csv\")\n",
    "base = os.path.join(os.getcwd(), \"east_coast_analysis/base.yaml\")\n",
    "pipeline = Pipeline(projects, base, regional_ports=False)\n",
    "    \n",
    "# weather_no_whales = pd.read_csv(\"east_coast_analysis/library/weather/vineyard_wind_weather_1983_2017_orbit.csv\", parse_dates=['datetime']).set_index('datetime')\n",
    "# weather = pd.read_csv(\"east_coast_analysis/library/weather/vineyard_wind_repr_with_whales.csv\", parse_dates=[\"datetime\"]).set_index(\"datetime\")"
   ]
  },
  {
   "cell_type": "code",
   "execution_count": null,
   "id": "9d812de5-fe4c-4603-8745-b051a4fa0700",
   "metadata": {},
   "outputs": [],
   "source": [
    "library_path = os.path.join(os.getcwd(), \"east_coast_analysis/library\")\n",
    "\n",
    "allocations = {\n",
    "    \"wtiv\": ('example_wtiv', 1),\n",
    "    \"feeder\": ('example_feeder', 10),\n",
    "    \"port\": [\n",
    "        ('new_bedford', 1),\n",
    "        ('new_london', 1),\n",
    "        ('njwp', 1),\n",
    "        ('sbmt', 1),\n",
    "        ('portsmouth', 2),\n",
    "    ],\n",
    "}"
   ]
  },
  {
   "cell_type": "code",
   "execution_count": null,
   "id": "aaeb5b73-679c-474b-93e4-96a8182b0f6a",
   "metadata": {},
   "outputs": [],
   "source": [
    "manager = GlobalManager(pipeline.configs, allocations, library_path=library_path)#, weather=weather)\n",
    "\n",
    "# Expanded Infra\n",
    "manager.add_future_resources(\"wtiv\", \"example_wtiv\", \n",
    "                             [dt.datetime(2025, 1, 1), dt.datetime(2026, 1, 1), dt.datetime(2026, 1, 1), dt.datetime(2026, 1, 1)])\n",
    "manager.add_future_resources(\"port\", \"new_bedford\", [dt.datetime(2025, 1, 1)])  # Assume Salem comes online\n",
    "manager.add_future_resources(\"port\", \"njwp\", [dt.datetime(2025, 1, 1)])\n",
    "manager.add_future_resources(\"port\", \"new_london\", [dt.datetime(2024, 1, 1)])\n",
    "manager.add_future_resources(\"port\", \"sbmt\", [dt.datetime(2025, 1, 1)])\n",
    "\n",
    "# Existing Infra\n",
    "manager.add_future_resources(\"port\", \"njwp\", [dt.datetime(2025, 1, 1)])\n",
    "\n",
    "manager.run()"
   ]
  },
  {
   "cell_type": "code",
   "execution_count": null,
   "id": "9f091a29-4594-46fe-8971-aeb12fb2a5b6",
   "metadata": {},
   "outputs": [],
   "source": [
    "df = pd.DataFrame(manager.logs).iloc[::-1]\n",
    "df = df.reset_index(drop=True).reset_index()\n",
    "\n",
    "port_map = pipeline.projects[[\"name\", \"associated_port\", \"capacity\"]].set_index(\"name\").to_dict()['associated_port']\n",
    "df['port'] = [port_map[name] for name in df['name']]\n",
    "\n",
    "capacity_map = pipeline.projects[[\"name\", \"capacity\"]].set_index(\"name\").to_dict()['capacity']\n",
    "df['capacity'] = [capacity_map[name] for name in df['name']]"
   ]
  },
  {
   "cell_type": "code",
   "execution_count": null,
   "id": "565f85b6-819b-4cea-b38e-2f593e38bdc5",
   "metadata": {},
   "outputs": [],
   "source": [
    "fig = plt.figure(figsize=(10, 6), dpi=300)\n",
    "ax = fig.add_subplot(111)\n",
    "\n",
    "df[\"Date Finished\"].plot(kind=\"barh\", ax=ax, zorder=4, label=\"Project Time\", color=\"#b1b1b1\")\n",
    "df[\"Date Started\"].plot(kind=\"barh\", color=\"#e9e9e9\", ax=ax, zorder=4, label=\"Project Delay\", hatch=\"////\", linewidth=0.5)\n",
    "df[\"Date Initialized\"].plot(kind='barh', ax=ax, zorder=4, label=\"__nolabel__\", color='w')\n",
    " \n",
    "# Plot formatting\n",
    "ax.set_xlabel(\"\")\n",
    "ax.set_ylabel(\"\")\n",
    "_ = ax.set_yticklabels(df['name'])\n",
    "plt.yticks(fontsize=6)\n",
    "ax.legend()\n",
    "ax.set_xlim(manager._start - dt.timedelta(days=30), dt.date(2036, 6, 1) + dt.timedelta(days=30))#df[\"Date Finished\"].max() + dt.timedelta(days=30))\n",
    "\n",
    "ax.axvline(dt.date(2031, 1, 1), lw=0.5, ls=\"--\", color=\"k\", zorder=6)\n",
    "installed_capacity = get_installed_capacity_by(df, 2031)\n",
    "ax.text(x=dt.date(2032, 2, 1), y=30, s=f\"Capacity installed by\\nend of 2030: {installed_capacity:,.0f} MW\", fontsize=10)\n",
    "\n",
    "fig.subplots_adjust(left=0.25)"
   ]
  },
  {
   "cell_type": "code",
   "execution_count": null,
   "id": "443ce53c-693b-4ed3-8c6e-1b0753b24eeb",
   "metadata": {},
   "outputs": [],
   "source": [
    "fig.savefig(\"east_coast_analysis/figures/hill_briefing_figs/existing.png\", dpi=300)"
   ]
  },
  {
   "cell_type": "code",
   "execution_count": null,
   "id": "8d113095-a3d6-46d1-9e3d-80a651e041b8",
   "metadata": {},
   "outputs": [],
   "source": []
  },
  {
   "cell_type": "markdown",
   "id": "f69329d9-dd2c-4f7e-b767-087c9b583b35",
   "metadata": {},
   "source": [
    "#### Annual Throughput"
   ]
  },
  {
   "cell_type": "code",
   "execution_count": null,
   "id": "966c673f-6d1a-4055-aafc-0b1b421c97e2",
   "metadata": {},
   "outputs": [],
   "source": [
    "res = []\n",
    "\n",
    "for _, project in df.iterrows():\n",
    "\n",
    "    if project[\"Date Finished\"].year == project[\"Date Started\"].year:\n",
    "        res.append((project[\"Date Finished\"].year, project[\"port\"], project[\"capacity\"]))\n",
    "        \n",
    "    else:\n",
    "        \n",
    "        perc = (project[\"Date Finished\"].date() - dt.date(project[\"Date Finished\"].year, 1, 1)) /\\\n",
    "            (project[\"Date Finished\"] - project[\"Date Started\"])\n",
    "        \n",
    "        res.append((project[\"Date Finished\"].year, project[\"port\"], perc * project[\"capacity\"]))\n",
    "        res.append((project[\"Date Started\"].year, project[\"port\"], (1 - perc) * project[\"capacity\"]))\n",
    "            \n",
    "throughput = pd.DataFrame(res, columns=[\"year\", \"port\", \"capacity\"]).pivot_table(\n",
    "    index=[\"year\"],\n",
    "    columns=[\"port\"],\n",
    "    aggfunc=\"sum\",\n",
    "    fill_value=0.\n",
    ")[\"capacity\"]\n",
    "\n",
    "fig = plt.figure(figsize=(6, 4), dpi=200)\n",
    "ax = fig.add_subplot(111)\n",
    "\n",
    "throughput.plot(ax=ax, lw=0.7)\n",
    "\n",
    "ax.set_ylim(0, 2000)\n",
    "\n",
    "ax.set_ylabel(\"Annual Capacity Throughput (MW)\")\n",
    "ax.set_xlabel(\"\")\n",
    "\n",
    "plt.xticks(rotation=0, fontsize=6)\n",
    "plt.yticks(fontsize=6)\n",
    "\n",
    "ax.legend(fontsize=6, ncol=5)"
   ]
  },
  {
   "cell_type": "code",
   "execution_count": null,
   "id": "363d38d4-82ad-4f78-b10a-5fa65bf33920",
   "metadata": {},
   "outputs": [],
   "source": []
  },
  {
   "cell_type": "code",
   "execution_count": null,
   "id": "bd896db5-22b1-4433-889b-8b83030acb68",
   "metadata": {},
   "outputs": [],
   "source": []
  }
 ],
 "metadata": {
  "kernelspec": {
   "display_name": "Python 3",
   "language": "python",
   "name": "python3"
  },
  "language_info": {
   "codemirror_mode": {
    "name": "ipython",
    "version": 3
   },
   "file_extension": ".py",
   "mimetype": "text/x-python",
   "name": "python",
   "nbconvert_exporter": "python",
   "pygments_lexer": "ipython3",
   "version": "3.7.9"
  }
 },
 "nbformat": 4,
 "nbformat_minor": 5
}
