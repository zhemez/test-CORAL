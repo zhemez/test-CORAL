{
 "cells": [
  {
   "cell_type": "code",
   "execution_count": 1,
   "id": "88d1d235-f998-43cb-9591-54f33aaddaef",
   "metadata": {},
   "outputs": [
    {
     "name": "stdout",
     "output_type": "stream",
     "text": [
      "ORBIT library intialized at 'C:\\Users\\mshields\\Documents\\Projects\\Supply Chain Roadmap\\ORBIT analysis\\CORAL\\east_coast_analysis/library'\n"
     ]
    }
   ],
   "source": [
    "import os\n",
    "import pandas as pd\n",
    "import datetime as dt\n",
    "import matplotlib.pyplot as plt\n",
    "import matplotlib as mpl\n",
    "from copy import deepcopy\n",
    "\n",
    "mpl.rcParams['hatch.linewidth'] = 0.2  # previous pdf hatch linewidth\n",
    "\n",
    "from ORBIT.core.library import initialize_library\n",
    "from CORAL import SharedLibrary, GlobalManager, Pipeline\n",
    "from CORAL.utils import get_installed_capacity_by\n",
    "\n",
    "initialize_library(os.path.join(os.getcwd(), \"east_coast_analysis/library\"))\n",
    "\n",
    "projects = os.path.join(os.getcwd(), \"east_coast_analysis/pipeline.csv\")\n",
    "base = os.path.join(os.getcwd(), \"east_coast_analysis/base.yaml\")\n",
    "pipeline = Pipeline(projects, base)\n",
    "    \n",
    "# weather = pd.read_csv(\"library/weather/vineyard_wind_weather_1983_2017_orbit.csv\", parse_dates=['datetime']).set_index('datetime')"
   ]
  },
  {
   "cell_type": "code",
   "execution_count": 2,
   "id": "1cfcb932-7a39-4b16-9684-f7b6506ce737",
   "metadata": {},
   "outputs": [
    {
     "data": {
      "text/plain": [
       "array(['new_bedford', 'sbmt', 'new_london', 'njwp', 'portsmouth'],\n",
       "      dtype=object)"
      ]
     },
     "execution_count": 2,
     "metadata": {},
     "output_type": "execute_result"
    }
   ],
   "source": [
    "pipeline.projects[\"associated_port\"].unique()"
   ]
  },
  {
   "cell_type": "code",
   "execution_count": 3,
   "id": "9d812de5-fe4c-4603-8745-b051a4fa0700",
   "metadata": {},
   "outputs": [],
   "source": [
    "library_path = os.path.join(os.getcwd(), \"library\")\n",
    "\n",
    "allocations = {\n",
    "    \"wtiv\": ('example_wtiv', 3),\n",
    "    \"feeder\": ('example_feeder', 6),\n",
    "    \"port\": [('northeast', 2), ('central', 2), ('south', 1)],\n",
    "}"
   ]
  },
  {
   "cell_type": "code",
   "execution_count": 4,
   "id": "aaeb5b73-679c-474b-93e4-96a8182b0f6a",
   "metadata": {},
   "outputs": [
    {
     "name": "stdout",
     "output_type": "stream",
     "text": [
      "Warning: Data not found for shared resource 'example_wtiv'. Verify data file is present at 'C:\\Users\\mshields\\Documents\\Projects\\Supply Chain Roadmap\\ORBIT analysis\\CORAL\\library\\vessels\\example_wtiv.yaml'\n",
      "Warning: Data not found for shared resource 'example_feeder'. Verify data file is present at 'C:\\Users\\mshields\\Documents\\Projects\\Supply Chain Roadmap\\ORBIT analysis\\CORAL\\library\\vessels\\example_feeder.yaml'\n",
      "Warning: Data not found for shared resource 'northeast'. Verify data file is present at 'C:\\Users\\mshields\\Documents\\Projects\\Supply Chain Roadmap\\ORBIT analysis\\CORAL\\library\\ports\\northeast.yaml'\n",
      "Warning: Data not found for shared resource 'central'. Verify data file is present at 'C:\\Users\\mshields\\Documents\\Projects\\Supply Chain Roadmap\\ORBIT analysis\\CORAL\\library\\ports\\central.yaml'\n",
      "Warning: Data not found for shared resource 'south'. Verify data file is present at 'C:\\Users\\mshields\\Documents\\Projects\\Supply Chain Roadmap\\ORBIT analysis\\CORAL\\library\\ports\\south.yaml'\n"
     ]
    },
    {
     "ename": "KeyError",
     "evalue": "'northeast'",
     "output_type": "error",
     "traceback": [
      "\u001b[1;31m---------------------------------------------------------------------------\u001b[0m",
      "\u001b[1;31mKeyError\u001b[0m                                  Traceback (most recent call last)",
      "\u001b[1;32mC:\\Users\\mshields\\Documents\\Projects\\Supply Chain Roadmap\\ORBIT analysis\\CORAL\\CORAL\\manager.py\u001b[0m in \u001b[0;36m_initialize\u001b[1;34m(self, name, start, config)\u001b[0m\n\u001b[0;32m    159\u001b[0m \u001b[1;33m\u001b[0m\u001b[0m\n\u001b[1;32m--> 160\u001b[1;33m         \u001b[0mresource_data\u001b[0m \u001b[1;33m=\u001b[0m \u001b[0mself\u001b[0m\u001b[1;33m.\u001b[0m\u001b[0mlibrary\u001b[0m\u001b[1;33m.\u001b[0m\u001b[0mrequest\u001b[0m\u001b[1;33m(\u001b[0m\u001b[0mrequest\u001b[0m\u001b[1;33m)\u001b[0m\u001b[1;33m\u001b[0m\u001b[1;33m\u001b[0m\u001b[0m\n\u001b[0m\u001b[0;32m    161\u001b[0m         \u001b[1;32myield\u001b[0m \u001b[0mrequest\u001b[0m\u001b[1;33m.\u001b[0m\u001b[0mtrigger\u001b[0m\u001b[1;33m\u001b[0m\u001b[1;33m\u001b[0m\u001b[0m\n",
      "\u001b[1;32mC:\\Users\\mshields\\Documents\\Projects\\Supply Chain Roadmap\\ORBIT analysis\\CORAL\\CORAL\\library.py\u001b[0m in \u001b[0;36mrequest\u001b[1;34m(self, request)\u001b[0m\n\u001b[0;32m     83\u001b[0m         \u001b[0mself\u001b[0m\u001b[1;33m.\u001b[0m\u001b[0m_requests\u001b[0m\u001b[1;33m.\u001b[0m\u001b[0mappend\u001b[0m\u001b[1;33m(\u001b[0m\u001b[0mrequest\u001b[0m\u001b[1;33m)\u001b[0m\u001b[1;33m\u001b[0m\u001b[1;33m\u001b[0m\u001b[0m\n\u001b[1;32m---> 84\u001b[1;33m         \u001b[0mself\u001b[0m\u001b[1;33m.\u001b[0m\u001b[0mcheck_requests\u001b[0m\u001b[1;33m(\u001b[0m\u001b[1;33m)\u001b[0m\u001b[1;33m\u001b[0m\u001b[1;33m\u001b[0m\u001b[0m\n\u001b[0m\u001b[0;32m     85\u001b[0m \u001b[1;33m\u001b[0m\u001b[0m\n",
      "\u001b[1;32mC:\\Users\\mshields\\Documents\\Projects\\Supply Chain Roadmap\\ORBIT analysis\\CORAL\\CORAL\\library.py\u001b[0m in \u001b[0;36mcheck_requests\u001b[1;34m(self)\u001b[0m\n\u001b[0;32m    117\u001b[0m             \u001b[1;32mfor\u001b[0m \u001b[0mk\u001b[0m\u001b[1;33m,\u001b[0m \u001b[0mv\u001b[0m \u001b[1;32min\u001b[0m \u001b[0mrequest\u001b[0m\u001b[1;33m.\u001b[0m\u001b[0mresources\u001b[0m\u001b[1;33m.\u001b[0m\u001b[0mitems\u001b[0m\u001b[1;33m(\u001b[0m\u001b[1;33m)\u001b[0m\u001b[1;33m:\u001b[0m\u001b[1;33m\u001b[0m\u001b[1;33m\u001b[0m\u001b[0m\n\u001b[1;32m--> 118\u001b[1;33m                 \u001b[1;32mif\u001b[0m \u001b[0mself\u001b[0m\u001b[1;33m.\u001b[0m\u001b[0mresources\u001b[0m\u001b[1;33m[\u001b[0m\u001b[0mk\u001b[0m\u001b[1;33m]\u001b[0m\u001b[1;33m[\u001b[0m\u001b[0mv\u001b[0m\u001b[1;33m]\u001b[0m\u001b[1;33m.\u001b[0m\u001b[0mcapacity\u001b[0m \u001b[1;33m==\u001b[0m \u001b[0mself\u001b[0m\u001b[1;33m.\u001b[0m\u001b[0mresources\u001b[0m\u001b[1;33m[\u001b[0m\u001b[0mk\u001b[0m\u001b[1;33m]\u001b[0m\u001b[1;33m[\u001b[0m\u001b[0mv\u001b[0m\u001b[1;33m]\u001b[0m\u001b[1;33m.\u001b[0m\u001b[0mcount\u001b[0m\u001b[1;33m:\u001b[0m\u001b[1;33m\u001b[0m\u001b[1;33m\u001b[0m\u001b[0m\n\u001b[0m\u001b[0;32m    119\u001b[0m                     \u001b[0mproceed\u001b[0m \u001b[1;33m=\u001b[0m \u001b[1;32mFalse\u001b[0m\u001b[1;33m\u001b[0m\u001b[1;33m\u001b[0m\u001b[0m\n",
      "\u001b[1;31mKeyError\u001b[0m: 'northeast'",
      "\nThe above exception was the direct cause of the following exception:\n",
      "\u001b[1;31mKeyError\u001b[0m                                  Traceback (most recent call last)",
      "\u001b[1;32m<ipython-input-4-848a56b008b3>\u001b[0m in \u001b[0;36m<module>\u001b[1;34m()\u001b[0m\n\u001b[0;32m      1\u001b[0m \u001b[0mmanager\u001b[0m \u001b[1;33m=\u001b[0m \u001b[0mGlobalManager\u001b[0m\u001b[1;33m(\u001b[0m\u001b[0mpipeline\u001b[0m\u001b[1;33m.\u001b[0m\u001b[0mconfigs\u001b[0m\u001b[1;33m,\u001b[0m \u001b[0mallocations\u001b[0m\u001b[1;33m,\u001b[0m \u001b[0mlibrary_path\u001b[0m\u001b[1;33m=\u001b[0m\u001b[0mlibrary_path\u001b[0m\u001b[1;33m)\u001b[0m\u001b[1;31m#, weather=weather)\u001b[0m\u001b[1;33m\u001b[0m\u001b[1;33m\u001b[0m\u001b[0m\n\u001b[1;32m----> 2\u001b[1;33m \u001b[0mmanager\u001b[0m\u001b[1;33m.\u001b[0m\u001b[0mrun\u001b[0m\u001b[1;33m(\u001b[0m\u001b[1;33m)\u001b[0m\u001b[1;33m\u001b[0m\u001b[1;33m\u001b[0m\u001b[0m\n\u001b[0m",
      "\u001b[1;32mC:\\Users\\mshields\\Documents\\Projects\\Supply Chain Roadmap\\ORBIT analysis\\CORAL\\CORAL\\manager.py\u001b[0m in \u001b[0;36mrun\u001b[1;34m(self)\u001b[0m\n\u001b[0;32m    135\u001b[0m         \u001b[1;34m\"\"\"Main simulation run method.\"\"\"\u001b[0m\u001b[1;33m\u001b[0m\u001b[1;33m\u001b[0m\u001b[0m\n\u001b[0;32m    136\u001b[0m \u001b[1;33m\u001b[0m\u001b[0m\n\u001b[1;32m--> 137\u001b[1;33m         \u001b[0mself\u001b[0m\u001b[1;33m.\u001b[0m\u001b[0menv\u001b[0m\u001b[1;33m.\u001b[0m\u001b[0mrun\u001b[0m\u001b[1;33m(\u001b[0m\u001b[1;33m)\u001b[0m\u001b[1;33m\u001b[0m\u001b[1;33m\u001b[0m\u001b[0m\n\u001b[0m\u001b[0;32m    138\u001b[0m \u001b[1;33m\u001b[0m\u001b[0m\n\u001b[0;32m    139\u001b[0m     \u001b[1;32mdef\u001b[0m \u001b[0m_initialize\u001b[0m\u001b[1;33m(\u001b[0m\u001b[0mself\u001b[0m\u001b[1;33m,\u001b[0m \u001b[0mname\u001b[0m\u001b[1;33m,\u001b[0m \u001b[0mstart\u001b[0m\u001b[1;33m,\u001b[0m \u001b[0mconfig\u001b[0m\u001b[1;33m)\u001b[0m\u001b[1;33m:\u001b[0m\u001b[1;33m\u001b[0m\u001b[1;33m\u001b[0m\u001b[0m\n",
      "\u001b[1;32mC:\\Users\\mshields\\AppData\\Local\\Continuum\\anaconda3\\envs\\floating-study\\lib\\site-packages\\simpy\\core.py\u001b[0m in \u001b[0;36mrun\u001b[1;34m(self, until)\u001b[0m\n\u001b[0;32m    252\u001b[0m         \u001b[1;32mtry\u001b[0m\u001b[1;33m:\u001b[0m\u001b[1;33m\u001b[0m\u001b[1;33m\u001b[0m\u001b[0m\n\u001b[0;32m    253\u001b[0m             \u001b[1;32mwhile\u001b[0m \u001b[1;32mTrue\u001b[0m\u001b[1;33m:\u001b[0m\u001b[1;33m\u001b[0m\u001b[1;33m\u001b[0m\u001b[0m\n\u001b[1;32m--> 254\u001b[1;33m                 \u001b[0mself\u001b[0m\u001b[1;33m.\u001b[0m\u001b[0mstep\u001b[0m\u001b[1;33m(\u001b[0m\u001b[1;33m)\u001b[0m\u001b[1;33m\u001b[0m\u001b[1;33m\u001b[0m\u001b[0m\n\u001b[0m\u001b[0;32m    255\u001b[0m         \u001b[1;32mexcept\u001b[0m \u001b[0mStopSimulation\u001b[0m \u001b[1;32mas\u001b[0m \u001b[0mexc\u001b[0m\u001b[1;33m:\u001b[0m\u001b[1;33m\u001b[0m\u001b[1;33m\u001b[0m\u001b[0m\n\u001b[0;32m    256\u001b[0m             \u001b[1;32mreturn\u001b[0m \u001b[0mexc\u001b[0m\u001b[1;33m.\u001b[0m\u001b[0margs\u001b[0m\u001b[1;33m[\u001b[0m\u001b[1;36m0\u001b[0m\u001b[1;33m]\u001b[0m  \u001b[1;31m# == until.value\u001b[0m\u001b[1;33m\u001b[0m\u001b[1;33m\u001b[0m\u001b[0m\n",
      "\u001b[1;32mC:\\Users\\mshields\\AppData\\Local\\Continuum\\anaconda3\\envs\\floating-study\\lib\\site-packages\\simpy\\core.py\u001b[0m in \u001b[0;36mstep\u001b[1;34m(self)\u001b[0m\n\u001b[0;32m    204\u001b[0m             \u001b[0mexc\u001b[0m \u001b[1;33m=\u001b[0m \u001b[0mtype\u001b[0m\u001b[1;33m(\u001b[0m\u001b[0mevent\u001b[0m\u001b[1;33m.\u001b[0m\u001b[0m_value\u001b[0m\u001b[1;33m)\u001b[0m\u001b[1;33m(\u001b[0m\u001b[1;33m*\u001b[0m\u001b[0mevent\u001b[0m\u001b[1;33m.\u001b[0m\u001b[0m_value\u001b[0m\u001b[1;33m.\u001b[0m\u001b[0margs\u001b[0m\u001b[1;33m)\u001b[0m\u001b[1;33m\u001b[0m\u001b[1;33m\u001b[0m\u001b[0m\n\u001b[0;32m    205\u001b[0m             \u001b[0mexc\u001b[0m\u001b[1;33m.\u001b[0m\u001b[0m__cause__\u001b[0m \u001b[1;33m=\u001b[0m \u001b[0mevent\u001b[0m\u001b[1;33m.\u001b[0m\u001b[0m_value\u001b[0m\u001b[1;33m\u001b[0m\u001b[1;33m\u001b[0m\u001b[0m\n\u001b[1;32m--> 206\u001b[1;33m             \u001b[1;32mraise\u001b[0m \u001b[0mexc\u001b[0m\u001b[1;33m\u001b[0m\u001b[1;33m\u001b[0m\u001b[0m\n\u001b[0m\u001b[0;32m    207\u001b[0m \u001b[1;33m\u001b[0m\u001b[0m\n\u001b[0;32m    208\u001b[0m     def run(\n",
      "\u001b[1;31mKeyError\u001b[0m: 'northeast'"
     ]
    }
   ],
   "source": [
    "manager = GlobalManager(pipeline.configs, allocations, library_path=library_path)#, weather=weather)\n",
    "manager.run()"
   ]
  },
  {
   "cell_type": "code",
   "execution_count": null,
   "id": "9f091a29-4594-46fe-8971-aeb12fb2a5b6",
   "metadata": {},
   "outputs": [],
   "source": [
    "df = pd.DataFrame(manager.logs).iloc[::-1]\n",
    "df = df.reset_index(drop=True).reset_index()\n",
    "\n",
    "port_map = pipeline.projects[[\"name\", \"port_region\"]].set_index(\"name\").to_dict()['port_region']\n",
    "df['port'] = [port_map[name] for name in df['name']]\n",
    "\n",
    "capacity_map = pipeline.projects[[\"name\", \"capacity\"]].set_index(\"name\").to_dict()['capacity']\n",
    "df['capacity'] = [capacity_map[name] for name in df['name']]"
   ]
  },
  {
   "cell_type": "code",
   "execution_count": null,
   "id": "565f85b6-819b-4cea-b38e-2f593e38bdc5",
   "metadata": {},
   "outputs": [],
   "source": [
    "fig = plt.figure(figsize=(10, 6), dpi=200)\n",
    "ax = fig.add_subplot(111)\n",
    "\n",
    "df[\"Date Finished\"].plot(kind=\"barh\", ax=ax, zorder=4, label=\"Project Time\", color=\"#b1b1b1\")\n",
    "df[\"Date Started\"].plot(kind=\"barh\", color=\"#e9e9e9\", ax=ax, zorder=4, label=\"Project Delay\", hatch=\"////\", linewidth=0.5)\n",
    "df[\"Date Initialized\"].plot(kind='barh', ax=ax, zorder=4, label=\"__nolabel__\", color='w')\n",
    "\n",
    "ax.axvline(dt.date(2030, 1, 1), lw=0.5, ls=\"--\", color=\"k\", zorder=6)\n",
    "    \n",
    "# Plot formatting\n",
    "ax.set_xlabel(\"\")\n",
    "ax.set_ylabel(\"\")\n",
    "_ = ax.set_yticklabels(df['name'])\n",
    "plt.yticks(fontsize=6)\n",
    "ax.legend()\n",
    "ax.set_xlim(manager._start - dt.timedelta(days=30), dt.date(2036, 6, 1) + dt.timedelta(days=30))#df[\"Date Finished\"].max() + dt.timedelta(days=30))\n",
    "\n",
    "installed_capacity = get_installed_capacity_by(df, 2030)\n",
    "ax.text(x=dt.date(2032, 8, 1), y=27, s=f\"Capacity Installed by 2030:\\n     {installed_capacity:,.0f} MW\", fontsize=8)\n",
    "\n",
    "fig.subplots_adjust(left=0.25)"
   ]
  },
  {
   "cell_type": "code",
   "execution_count": 38,
   "id": "443ce53c-693b-4ed3-8c6e-1b0753b24eeb",
   "metadata": {},
   "outputs": [],
   "source": [
    "# fig.savefig(\"figures/bau.png\")"
   ]
  },
  {
   "cell_type": "code",
   "execution_count": null,
   "id": "8d113095-a3d6-46d1-9e3d-80a651e041b8",
   "metadata": {},
   "outputs": [],
   "source": []
  },
  {
   "cell_type": "code",
   "execution_count": null,
   "id": "156eab3f-b081-4031-9688-16c61b6493a8",
   "metadata": {},
   "outputs": [],
   "source": []
  },
  {
   "cell_type": "code",
   "execution_count": null,
   "id": "966c673f-6d1a-4055-aafc-0b1b421c97e2",
   "metadata": {},
   "outputs": [],
   "source": []
  },
  {
   "cell_type": "code",
   "execution_count": null,
   "id": "63358c38-75be-48ff-9a4c-056310966924",
   "metadata": {},
   "outputs": [],
   "source": []
  },
  {
   "cell_type": "code",
   "execution_count": null,
   "id": "821183c5-0b4c-4e5d-8b39-6470e03b8582",
   "metadata": {},
   "outputs": [],
   "source": []
  },
  {
   "cell_type": "code",
   "execution_count": null,
   "id": "c27cb0aa-6488-478a-9588-d926bac60b3f",
   "metadata": {},
   "outputs": [],
   "source": []
  },
  {
   "cell_type": "code",
   "execution_count": null,
   "id": "363d38d4-82ad-4f78-b10a-5fa65bf33920",
   "metadata": {},
   "outputs": [],
   "source": []
  },
  {
   "cell_type": "code",
   "execution_count": null,
   "id": "bd896db5-22b1-4433-889b-8b83030acb68",
   "metadata": {},
   "outputs": [],
   "source": []
  }
 ],
 "metadata": {
  "kernelspec": {
   "display_name": "Python 3",
   "language": "python",
   "name": "python3"
  },
  "language_info": {
   "codemirror_mode": {
    "name": "ipython",
    "version": 3
   },
   "file_extension": ".py",
   "mimetype": "text/x-python",
   "name": "python",
   "nbconvert_exporter": "python",
   "pygments_lexer": "ipython3",
   "version": "3.7.9"
  }
 },
 "nbformat": 4,
 "nbformat_minor": 5
}
